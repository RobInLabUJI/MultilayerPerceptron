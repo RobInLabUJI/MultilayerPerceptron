{
  "nbformat": 4,
  "nbformat_minor": 0,
  "metadata": {
    "colab": {
      "provenance": [],
      "authorship_tag": "ABX9TyNfwDbqwWCEs0aN6Y0BG64k",
      "include_colab_link": true
    },
    "kernelspec": {
      "name": "python3",
      "display_name": "Python 3"
    },
    "language_info": {
      "name": "python"
    }
  },
  "cells": [
    {
      "cell_type": "markdown",
      "metadata": {
        "id": "view-in-github",
        "colab_type": "text"
      },
      "source": [
        "<a href=\"https://colab.research.google.com/github/RobInLabUJI/MultilayerPerceptron/blob/main/XOR_check.ipynb\" target=\"_parent\"><img src=\"https://colab.research.google.com/assets/colab-badge.svg\" alt=\"Open In Colab\"/></a>"
      ]
    },
    {
      "cell_type": "markdown",
      "source": [
        "# Checking the multilayer perceptrons trained with the XOR function\n",
        "\n",
        "You are going to load the files of the non-converging and converged networks, and check the analytical results, without need of training."
      ],
      "metadata": {
        "id": "1NWf9XAVTqFR"
      }
    },
    {
      "cell_type": "code",
      "execution_count": null,
      "metadata": {
        "id": "yZKJDaCAToWB"
      },
      "outputs": [],
      "source": [
        "import numpy as np\n",
        "import joblib\n",
        "\n",
        "import matplotlib.pyplot as plt\n",
        "\n",
        "def plot_decision_boundary(mlp, X, Y):\n",
        "    h = .02\n",
        "    x_min, x_max = X[:, 0].min() - .5, X[:, 0].max() + .5\n",
        "    y_min, y_max = X[:, 1].min() - .5, X[:, 1].max() + .5\n",
        "    xx, yy = np.meshgrid(np.arange(x_min, x_max, h), np.arange(y_min, y_max, h))\n",
        "    Z = mlp.predict(np.c_[xx.ravel(), yy.ravel()])\n",
        "    Z = Z.reshape(xx.shape)\n",
        "    plt.pcolormesh(xx, yy, Z, shading='auto', cmap=plt.cm.Paired);\n",
        "    plt.xlim(xx.min(), xx.max());\n",
        "    plt.ylim(yy.min(), yy.max());\n",
        "\n",
        "def plot_data(x,y):\n",
        "    colormap = np.array(['r', 'k'])\n",
        "    plt.scatter(x[:,0], x[:,1], c=colormap[y.astype(int)], s=50);\n",
        "\n",
        "%matplotlib inline\n",
        "\n",
        "x = np.array([[0.,0.],\\\n",
        "              [0.,1.],\\\n",
        "              [1.,0.],\\\n",
        "              [1.,1.]])\n",
        "y = np.array([0.,1.,1.,0.])"
      ]
    },
    {
      "cell_type": "markdown",
      "source": [
        "## Upload files"
      ],
      "metadata": {
        "id": "tdlFVhF4YcUL"
      }
    },
    {
      "cell_type": "code",
      "source": [
        "from google.colab import files\n",
        "files.upload()"
      ],
      "metadata": {
        "id": "QWKKiGrnYeis"
      },
      "execution_count": null,
      "outputs": []
    },
    {
      "cell_type": "markdown",
      "source": [
        "## Non-converging network\n",
        "\n",
        "Load the network."
      ],
      "metadata": {
        "id": "N0lIPq8KUvYu"
      }
    },
    {
      "cell_type": "code",
      "source": [
        "net = joblib.load('xor_non_converging.pkl') "
      ],
      "metadata": {
        "id": "d-rQOE59Xw4d"
      },
      "execution_count": null,
      "outputs": []
    },
    {
      "cell_type": "markdown",
      "source": [
        "Plot the data."
      ],
      "metadata": {
        "id": "J_Ysf5NUXy8b"
      }
    },
    {
      "cell_type": "code",
      "source": [
        "plot_decision_boundary(net,x,y)\n",
        "plot_data(x, y)"
      ],
      "metadata": {
        "id": "lO1Z39-xX1jo"
      },
      "execution_count": null,
      "outputs": []
    },
    {
      "cell_type": "markdown",
      "source": [
        "Percentage of correct classification of the training data:"
      ],
      "metadata": {
        "id": "VpezarGWX3IM"
      }
    },
    {
      "cell_type": "code",
      "source": [
        "net.score(x,y) * 100"
      ],
      "metadata": {
        "id": "hwmHxrMJUtNj"
      },
      "execution_count": null,
      "outputs": []
    },
    {
      "cell_type": "markdown",
      "source": [
        "Number of iterations during training:"
      ],
      "metadata": {
        "id": "Jju32vI7UyeY"
      }
    },
    {
      "cell_type": "code",
      "source": [
        "net.n_iter_"
      ],
      "metadata": {
        "id": "HVAUlmTKUo9X"
      },
      "execution_count": null,
      "outputs": []
    },
    {
      "cell_type": "markdown",
      "source": [
        "Loss curve: (currently, [MLPClassifier](http://scikit-learn.org/stable/modules/generated/sklearn.neural_network.MLPClassifier.html#sklearn.neural_network.MLPClassifier) supports only the [Cross-Entropy loss function](https://en.wikipedia.org/wiki/Cross_entropy#Cross-entropy_error_function_and_logistic_regression))"
      ],
      "metadata": {
        "id": "5I09HwWgU46Y"
      }
    },
    {
      "cell_type": "code",
      "source": [
        "plt.plot(net.loss_curve_);\n",
        "plt.xlabel('Iterations');\n",
        "plt.ylabel('Loss');"
      ],
      "metadata": {
        "id": "jNBQtj8YU35Z"
      },
      "execution_count": null,
      "outputs": []
    },
    {
      "cell_type": "markdown",
      "source": [
        "## Converged network\n",
        "\n",
        "Load the network."
      ],
      "metadata": {
        "id": "1IlgeS9sVCt5"
      }
    },
    {
      "cell_type": "code",
      "source": [
        "net = joblib.load('xor_converged.pkl') "
      ],
      "metadata": {
        "id": "gkkiUYG1X-ck"
      },
      "execution_count": null,
      "outputs": []
    },
    {
      "cell_type": "markdown",
      "source": [
        "Plot the data."
      ],
      "metadata": {
        "id": "1Yn168klYAOD"
      }
    },
    {
      "cell_type": "code",
      "source": [
        "plot_decision_boundary(net,x,y)\n",
        "plot_data(x, y)"
      ],
      "metadata": {
        "id": "vvUxmGZRYDb_"
      },
      "execution_count": null,
      "outputs": []
    },
    {
      "cell_type": "markdown",
      "source": [
        "Percentage of correct classification of the training data:"
      ],
      "metadata": {
        "id": "2JN26kFJYEtj"
      }
    },
    {
      "cell_type": "code",
      "source": [
        "net.score(x,y) * 100"
      ],
      "metadata": {
        "id": "r51qeOqnVEAe"
      },
      "execution_count": null,
      "outputs": []
    },
    {
      "cell_type": "markdown",
      "source": [
        "Number of iterations during training:"
      ],
      "metadata": {
        "id": "xvyUkCqtVH-5"
      }
    },
    {
      "cell_type": "code",
      "source": [
        "net.n_iter_"
      ],
      "metadata": {
        "id": "noooFlBLVGiH"
      },
      "execution_count": null,
      "outputs": []
    },
    {
      "cell_type": "markdown",
      "source": [
        "Loss curve: (currently, [MLPClassifier](http://scikit-learn.org/stable/modules/generated/sklearn.neural_network.MLPClassifier.html#sklearn.neural_network.MLPClassifier) supports only the [Cross-Entropy loss function](https://en.wikipedia.org/wiki/Cross_entropy#Cross-entropy_error_function_and_logistic_regression))"
      ],
      "metadata": {
        "id": "vFjuxroHVL5I"
      }
    },
    {
      "cell_type": "code",
      "source": [
        "plt.plot(net.loss_curve_);\n",
        "plt.xlabel('Iterations');\n",
        "plt.ylabel('Loss');"
      ],
      "metadata": {
        "id": "F20sbYBSVLRw"
      },
      "execution_count": null,
      "outputs": []
    }
  ]
}