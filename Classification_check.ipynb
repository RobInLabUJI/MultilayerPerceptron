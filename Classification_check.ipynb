{
  "nbformat": 4,
  "nbformat_minor": 0,
  "metadata": {
    "colab": {
      "provenance": [],
      "authorship_tag": "ABX9TyOpojUAOL1BO52D8pItmGEL",
      "include_colab_link": true
    },
    "kernelspec": {
      "name": "python3",
      "display_name": "Python 3"
    },
    "language_info": {
      "name": "python"
    }
  },
  "cells": [
    {
      "cell_type": "markdown",
      "metadata": {
        "id": "view-in-github",
        "colab_type": "text"
      },
      "source": [
        "<a href=\"https://colab.research.google.com/github/RobInLabUJI/MultilayerPerceptron/blob/main/Classification_check.ipynb\" target=\"_parent\"><img src=\"https://colab.research.google.com/assets/colab-badge.svg\" alt=\"Open In Colab\"/></a>"
      ]
    },
    {
      "cell_type": "markdown",
      "source": [
        "# MLP check for the classification task"
      ],
      "metadata": {
        "id": "U7NDNDcoJ1Qy"
      }
    },
    {
      "cell_type": "code",
      "execution_count": null,
      "metadata": {
        "id": "GO0j2rirJxxQ"
      },
      "outputs": [],
      "source": [
        "import numpy as np\n",
        "\n",
        "from sklearn.neural_network import MLPClassifier\n",
        "from sklearn.model_selection import train_test_split\n",
        "from sklearn.preprocessing import StandardScaler\n",
        "from sklearn.datasets import make_moons, make_circles\n",
        "import joblib\n",
        "\n",
        "import matplotlib.pyplot as plt\n",
        "from matplotlib.colors import ListedColormap\n",
        "\n",
        "def plot_ds(X_train, X_test, y_train, y_test):\n",
        "    h = .02\n",
        "    x_min, x_max = X_train[:, 0].min() - .5, X_train[:, 0].max() + .5\n",
        "    y_min, y_max = X_train[:, 1].min() - .5, X_train[:, 1].max() + .5\n",
        "    xx, yy = np.meshgrid(np.arange(x_min, x_max, h),\n",
        "                         np.arange(y_min, y_max, h))\n",
        "    cm_bright = ListedColormap(['#FF0000', '#0000FF'])\n",
        "    plt.scatter(X_train[:, 0], X_train[:, 1], c=y_train, cmap=cm_bright);\n",
        "    plt.scatter(X_test[:, 0], X_test[:, 1], c=y_test, cmap=cm_bright, alpha=0.6);\n",
        "    plt.xlim(xx.min(), xx.max()); plt.ylim(yy.min(), yy.max());\n",
        "    plt.xticks(()); plt.yticks(());\n",
        "    \n",
        "def plot_contour(net,X_train, X_test, y_train, y_test):\n",
        "    h = .02\n",
        "    x_min, x_max = X_train[:, 0].min() - .5, X_train[:, 0].max() + .5\n",
        "    y_min, y_max = X_train[:, 1].min() - .5, X_train[:, 1].max() + .5\n",
        "    xx, yy = np.meshgrid(np.arange(x_min, x_max, h),\n",
        "                         np.arange(y_min, y_max, h))\n",
        "    Z = net.predict_proba(np.c_[xx.ravel(), yy.ravel()])[:, 1]\n",
        "    Z = Z.reshape(xx.shape)\n",
        "    cm = plt.cm.RdBu\n",
        "    plt.contourf(xx, yy, Z, cmap=cm, alpha=.8)\n",
        "\n",
        "%matplotlib inline"
      ]
    },
    {
      "cell_type": "markdown",
      "source": [
        "## Upload files"
      ],
      "metadata": {
        "id": "KRDzbF7RMpf-"
      }
    },
    {
      "cell_type": "code",
      "source": [
        "from google.colab import files\n",
        "files.upload()"
      ],
      "metadata": {
        "id": "piBe8tXDMsRv"
      },
      "execution_count": null,
      "outputs": []
    },
    {
      "cell_type": "markdown",
      "source": [
        "## Load in the data"
      ],
      "metadata": {
        "id": "ohkte99vKliM"
      }
    },
    {
      "cell_type": "code",
      "source": [
        "ds = joblib.load('mlp_dataset.pkl')\n",
        "X, y = ds\n",
        "X_train, X_test, y_train, y_test = train_test_split(X, y, test_size=.4)"
      ],
      "metadata": {
        "id": "rTeCSvT4KTVB"
      },
      "execution_count": null,
      "outputs": []
    },
    {
      "cell_type": "markdown",
      "source": [
        "## Data scaling\n",
        "\n",
        "You must load and use the scaler that was generated during training."
      ],
      "metadata": {
        "id": "eZLfZ4T1Kvng"
      }
    },
    {
      "cell_type": "code",
      "source": [
        "# Don't cheat - load the scaler from file\n",
        "scaler = joblib.load('mlp_scaler.pkl') \n",
        "# apply same transformation to data\n",
        "X_train = scaler.transform(X_train)\n",
        "X_test = scaler.transform(X_test)"
      ],
      "metadata": {
        "id": "Vrsrt-9GKttO"
      },
      "execution_count": null,
      "outputs": []
    },
    {
      "cell_type": "code",
      "source": [
        "plot_ds(X_train, X_test, y_train, y_test)"
      ],
      "metadata": {
        "id": "MuO2UqdGKyG-"
      },
      "execution_count": null,
      "outputs": []
    },
    {
      "cell_type": "markdown",
      "source": [
        "## Load the network"
      ],
      "metadata": {
        "id": "G2cBSF5rLEd2"
      }
    },
    {
      "cell_type": "code",
      "source": [
        "net = joblib.load('mlp_net.pkl')"
      ],
      "metadata": {
        "id": "Dbo28QW9LDZe"
      },
      "execution_count": null,
      "outputs": []
    },
    {
      "cell_type": "markdown",
      "source": [
        "## Plot decision boundary\n",
        "\n",
        "Plot the decision boundary as a contour plot. For that, we will assign a color to each point in the plane, which will be proportional to its probability of belonging to one class or the other."
      ],
      "metadata": {
        "id": "GeBA6UFvLHyB"
      }
    },
    {
      "cell_type": "code",
      "source": [
        "plot_contour(net, X_train, X_test, y_train, y_test)\n",
        "plot_ds(X_train, X_test, y_train, y_test)"
      ],
      "metadata": {
        "id": "7tu1AJYeLGTN"
      },
      "execution_count": null,
      "outputs": []
    },
    {
      "cell_type": "markdown",
      "source": [
        "## Analysis of the network\n",
        "\n",
        "Percentage of correct classification of the test data:"
      ],
      "metadata": {
        "id": "sqAV8jCpLNkH"
      }
    },
    {
      "cell_type": "code",
      "source": [
        "print('Score: %.2f' % (net.score(X_test, y_test)*100))"
      ],
      "metadata": {
        "id": "QzF3VePRLJ22"
      },
      "execution_count": null,
      "outputs": []
    },
    {
      "cell_type": "markdown",
      "source": [
        "Is it *exactly* the same score that was obtained during the training? If not, guess why?"
      ],
      "metadata": {
        "id": "UrUbFU-xLRGX"
      }
    }
  ]
}